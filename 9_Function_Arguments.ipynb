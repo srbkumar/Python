{
 "cells": [
  {
   "cell_type": "markdown",
   "metadata": {},
   "source": [
    "# Function Arguments"
   ]
  },
  {
   "cell_type": "code",
   "execution_count": 2,
   "metadata": {},
   "outputs": [
    {
     "name": "stdout",
     "output_type": "stream",
     "text": [
      "Hello Abhi , Good Morning !!!!\n"
     ]
    }
   ],
   "source": [
    "def greet(name,msg):\n",
    "    \"\"\"\n",
    "    This function greets to a person with the provide message.\n",
    "    \"\"\"\n",
    "    print(\"Hello {0} , {1} !!!!\".format(name,msg))\n",
    "\n",
    "#call the function with arguments\n",
    "greet(\"Abhi\", \"Good Morning\")"
   ]
  },
  {
   "cell_type": "code",
   "execution_count": 3,
   "metadata": {},
   "outputs": [
    {
     "ename": "TypeError",
     "evalue": "greet() missing 1 required positional argument: 'msg'",
     "output_type": "error",
     "traceback": [
      "\u001b[1;31m---------------------------------------------------------------------------\u001b[0m",
      "\u001b[1;31mTypeError\u001b[0m                                 Traceback (most recent call last)",
      "\u001b[1;32m<ipython-input-3-7ecac9c0dc06>\u001b[0m in \u001b[0;36m<module>\u001b[1;34m\u001b[0m\n\u001b[0;32m      1\u001b[0m \u001b[1;31m#suppose if we pass one argument\u001b[0m\u001b[1;33m\u001b[0m\u001b[1;33m\u001b[0m\u001b[1;33m\u001b[0m\u001b[0m\n\u001b[1;32m----> 2\u001b[1;33m \u001b[0mgreet\u001b[0m\u001b[1;33m(\u001b[0m\u001b[1;34m\"Abhi\"\u001b[0m\u001b[1;33m)\u001b[0m\u001b[1;33m\u001b[0m\u001b[1;33m\u001b[0m\u001b[0m\n\u001b[0m",
      "\u001b[1;31mTypeError\u001b[0m: greet() missing 1 required positional argument: 'msg'"
     ]
    }
   ],
   "source": [
    "#suppose if we pass one argument\n",
    "greet(\"Abhi\") "
   ]
  },
  {
   "cell_type": "markdown",
   "metadata": {},
   "source": [
    "# Different Forms of  Arguments"
   ]
  },
  {
   "cell_type": "markdown",
   "metadata": {},
   "source": [
    "# 1. Default Arguments"
   ]
  },
  {
   "cell_type": "markdown",
   "metadata": {},
   "source": [
    "We can provide a default value to an argument by using the assignment operator(=) "
   ]
  },
  {
   "cell_type": "code",
   "execution_count": 8,
   "metadata": {},
   "outputs": [
    {
     "name": "stdout",
     "output_type": "stream",
     "text": [
      "Hello Abhi , Good Evening !!!!\n",
      "Hello Abhi , Good Morning !!!!\n"
     ]
    }
   ],
   "source": [
    "def greet(name, msg = \"Good Morning\"):\n",
    "    \"\"\"\n",
    "    This function greets to a person with the provide message\n",
    "    if message is not provide, it defaults to \"Good Morning\"\n",
    "    \"\"\"\n",
    "    print(\"Hello {0} , {1} !!!!\".format(name,msg))\n",
    "\n",
    "#call the function with arguments\n",
    "greet(\"Abhi\", \"Good Evening\")\n",
    "\n",
    "#suppose if we pass one argument\n",
    "greet(\"Abhi\") "
   ]
  },
  {
   "cell_type": "markdown",
   "metadata": {},
   "source": [
    "Once we have a default argument, all the arguments to its right must also have default values.\n",
    "\n",
    "def greet(msg = \"Good Morning\", name)\n",
    "\n",
    "#will get a SyntaxError: non-default argument follow default argument"
   ]
  },
  {
   "cell_type": "markdown",
   "metadata": {},
   "source": [
    "# 2.Keyword Arguments"
   ]
  },
  {
   "cell_type": "markdown",
   "metadata": {},
   "source": [
    "kwargs allows you to pass keyworded variable length of arguments to a function. You should use **kwargs if you want to handle named arguments in a function "
   ]
  },
  {
   "cell_type": "code",
   "execution_count": 12,
   "metadata": {},
   "outputs": [
    {
     "name": "stdout",
     "output_type": "stream",
     "text": [
      "Hello Abhi , Good Evening !!!!\n"
     ]
    }
   ],
   "source": [
    "def greet(**kwargs):\n",
    "    \"\"\"\n",
    "    This function greets to a person with the provide message\n",
    "    \"\"\"\n",
    "    print(\"Hello {0} , {1} !!!!\".format(kwargs['name'],kwargs['msg']))\n",
    "\n",
    "#call the function with arguments\n",
    "greet(name=\"Abhi\", msg=\"Good Evening\")\n"
   ]
  },
  {
   "cell_type": "markdown",
   "metadata": {},
   "source": [
    "# 3. Arbitrary Arguments"
   ]
  },
  {
   "cell_type": "markdown",
   "metadata": {},
   "source": [
    "Sometimes, we do not know in advance the number of arguments that will be passed into a function. Python allows us to handle this kind of situation through function calls with arbitrary number of arguments."
   ]
  },
  {
   "cell_type": "code",
   "execution_count": 13,
   "metadata": {},
   "outputs": [
    {
     "name": "stdout",
     "output_type": "stream",
     "text": [
      "('Saurabh', 'Sonal', 'Abhi', 'Abhishek', 'Deeps')\n",
      "Hello, Saurabh\n",
      "Hello, Sonal\n",
      "Hello, Abhi\n",
      "Hello, Abhishek\n",
      "Hello, Deeps\n"
     ]
    }
   ],
   "source": [
    "def greet(*names):\n",
    "    \"\"\"\n",
    "    This function greets all person in the names tuple\n",
    "    \"\"\"\n",
    "    print(names)\n",
    "    \n",
    "    for name in names:\n",
    "        print(\"Hello, {0}\".format(name))\n",
    "\n",
    "greet('Saurabh', 'Sonal', 'Abhi', 'Abhishek', 'Deeps')"
   ]
  },
  {
   "cell_type": "code",
   "execution_count": null,
   "metadata": {},
   "outputs": [],
   "source": []
  }
 ],
 "metadata": {
  "kernelspec": {
   "display_name": "Python 3",
   "language": "python",
   "name": "python3"
  },
  "language_info": {
   "codemirror_mode": {
    "name": "ipython",
    "version": 3
   },
   "file_extension": ".py",
   "mimetype": "text/x-python",
   "name": "python",
   "nbconvert_exporter": "python",
   "pygments_lexer": "ipython3",
   "version": "3.7.4"
  }
 },
 "nbformat": 4,
 "nbformat_minor": 2
}
